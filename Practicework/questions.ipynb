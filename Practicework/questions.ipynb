{
 "cells": [
  {
   "cell_type": "markdown",
   "id": "6fd898aa",
   "metadata": {},
   "source": [
    "**10. Return length of a string using lambda**"
   ]
  },
  {
   "cell_type": "code",
   "execution_count": 1,
   "id": "a70290b6",
   "metadata": {},
   "outputs": [
    {
     "name": "stdout",
     "output_type": "stream",
     "text": [
      "6\n"
     ]
    }
   ],
   "source": [
    "n = input()\n",
    "length = lambda n: len(n)\n",
    "print(length(n))"
   ]
  },
  {
   "cell_type": "markdown",
   "id": "299139df",
   "metadata": {},
   "source": [
    "**11. Check if string starts with a vowel using lambda**"
   ]
  },
  {
   "cell_type": "code",
   "execution_count": 3,
   "id": "7c47fa2b",
   "metadata": {},
   "outputs": [
    {
     "name": "stdout",
     "output_type": "stream",
     "text": [
      "True\n"
     ]
    }
   ],
   "source": [
    "n = input()\n",
    "vowels = 'aeiouAEIOU'\n",
    "v = lambda a:True if n[0] in vowels else False\n",
    "print(v(n))"
   ]
  },
  {
   "cell_type": "code",
   "execution_count": null,
   "id": "cb35b41a",
   "metadata": {},
   "outputs": [
    {
     "name": "stdout",
     "output_type": "stream",
     "text": [
      "[2, 4, 6, 8]\n"
     ]
    }
   ],
   "source": [
    "#2\n",
    "l = eval(input())\n",
    "print(list(filter(lambda i: i%2==0,l)))"
   ]
  },
  {
   "cell_type": "code",
   "execution_count": null,
   "id": "9db1ed6e",
   "metadata": {},
   "outputs": [
    {
     "name": "stdout",
     "output_type": "stream",
     "text": [
      "[3, 6, 9, 12, 15, 18, 21, 24, 27, 30]\n"
     ]
    }
   ],
   "source": [
    "#3\n",
    "def generate_table(n):\n",
    "    return[n * i for i in range(1,11)]\n",
    "\n",
    "n = int(input())\n",
    "print(generate_table(n))"
   ]
  },
  {
   "cell_type": "code",
   "execution_count": null,
   "id": "762147ce",
   "metadata": {},
   "outputs": [],
   "source": [
    "#5\n",
    "def count(text):\n",
    "    h={}\n",
    "    for i in text:\n",
    "        if i not in h and h!=\" \":\n",
    "            h[i]=text.count(i)\n",
    "    return h\n",
    "text=input(\"Enter strings: \").split()\n",
    "print(count(text))"
   ]
  },
  {
   "cell_type": "code",
   "execution_count": 39,
   "id": "d53c037c",
   "metadata": {},
   "outputs": [
    {
     "name": "stdout",
     "output_type": "stream",
     "text": [
      "aditya.mandala@gmail.com\n"
     ]
    }
   ],
   "source": [
    "#8\n",
    "def create_email(first_name,last_name,domain):\n",
    "    email= first_name+\".\"+last_name+\"@\"+domain+\".\"+\"com\"\n",
    "    return email\n",
    "first = input().lower()\n",
    "last = input().lower()\n",
    "domain = input().lower()\n",
    "\n",
    "print(create_email(first,last,domain))"
   ]
  },
  {
   "cell_type": "code",
   "execution_count": 40,
   "metadata": {},
   "outputs": [
    {
     "name": "stdout",
     "output_type": "stream",
     "text": [
      "[1, 2, 3, 4, 6, 12]\n"
     ]
    }
   ],
   "source": [
    "#9\n",
    "def get_factors(n):\n",
    "    factors = []\n",
    "    for i in range (1, n + 1):\n",
    "        if n % i == 0:\n",
    "            factors.append(i)\n",
    "    return factors\n",
    "\n",
    "n = int(input())\n",
    "print(get_factors(n))\n",
    "        \n"
   ]
  },
  {
   "cell_type": "code",
   "execution_count": null,
   "metadata": {},
   "outputs": [
    {
     "name": "stdout",
     "output_type": "stream",
     "text": [
      "(apple) x4 @ E10.0 = *40.0\n"
     ]
    }
   ],
   "source": [
    "#10\n",
    "def formate_invoice(item,quantity,price):\n",
    "    total = quantity * price\n",
    "    return f\"({item}) x{quantity} @ E{price} = *{total}\"\n",
    "item = input()\n",
    "quantity = int(input())\n",
    "price = float(input())\n",
    "\n",
    "invoice = formate_invoice(item,quantity,price)\n",
    "print(invoice)"
   ]
  },
  {
   "cell_type": "code",
   "execution_count": null,
   "metadata": {},
   "outputs": [
    {
     "name": "stdout",
     "output_type": "stream",
     "text": [
      "{'the': 2, 'var': 1, 'value': 1}\n"
     ]
    }
   ],
   "source": []
  },
  {
   "cell_type": "code",
   "execution_count": null,
   "metadata": {},
   "outputs": [],
   "source": [
    "def get_factors()\n",
    "    for i in range(1,n+1)\n",
    "\n"
   ]
  },
  {
   "cell_type": "code",
   "execution_count": null,
   "id": "4d1ca65f",
   "metadata": {},
   "outputs": [
    {
     "ename": "",
     "evalue": "",
     "output_type": "error",
     "traceback": [
      "\u001b[1;31mThe kernel failed to start as 'eq' could not be imported from 'consider renaming 'c:\\\\Users\\\\DELL 5470\\\\python course work\\\\Python-course-work-1\\\\Practicework\\\\operator.py' since it has the same name as the standard library module named 'operator' and prevents importing that standard library module'.\n",
      "\u001b[1;31mClick <a href='https://aka.ms/kernelFailuresModuleImportErrFromFile'>here</a> for more info."
     ]
    }
   ],
   "source": []
  },
  {
   "cell_type": "code",
   "execution_count": null,
   "metadata": {},
   "outputs": [
    {
     "ename": "",
     "evalue": "",
     "output_type": "error",
     "traceback": [
      "\u001b[1;31mThe kernel failed to start as 'eq' could not be imported from 'consider renaming 'c:\\\\Users\\\\DELL 5470\\\\python course work\\\\Python-course-work-1\\\\Practicework\\\\operator.py' since it has the same name as the standard library module named 'operator' and prevents importing that standard library module'.\n",
      "\u001b[1;31mClick <a href='https://aka.ms/kernelFailuresModuleImportErrFromFile'>here</a> for more info."
     ]
    }
   ],
   "source": [
    "import operator \n",
    "\n",
    "a = int(input(\"enter the a:\"))\n",
    "b = int(input(\"enter the b:\"))\n",
    "\n",
    "option = input(\"enter the option(+-*/%**):\")\n",
    "\n",
    "if option=='+':\n",
    "    operator.add(a,b)\n",
    "elif option=='-':\n",
    "    operator.sub(a,b)"
   ]
  },
  {
   "cell_type": "markdown",
   "id": "e9ad592d",
   "metadata": {},
   "source": [
    "** Sys Function **"
   ]
  },
  {
   "cell_type": "code",
   "execution_count": null,
   "id": "e127b054",
   "metadata": {},
   "outputs": [
    {
     "name": "stdout",
     "output_type": "stream",
     "text": [
      "['c:\\\\Users\\\\DELL 5470\\\\python course work\\\\Python-course-work-1\\\\.venv\\\\Lib\\\\site-packages\\\\ipykernel_launcher.py', '--f=\"c:\\\\Users\\\\DELL 5470\\\\AppData\\\\Roaming\\\\jupyter\\\\runtime\\\\kernel-v35e8d4dcbd73ac729b314b651136c0cc1118e7317.json\"']\n",
      "['C:\\\\Program Files\\\\Python313\\\\python313.zip', 'C:\\\\Program Files\\\\Python313\\\\DLLs', 'C:\\\\Program Files\\\\Python313\\\\Lib', 'C:\\\\Program Files\\\\Python313', 'c:\\\\Users\\\\DELL 5470\\\\python course work\\\\Python-course-work-1\\\\.venv', '', 'c:\\\\Users\\\\DELL 5470\\\\python course work\\\\Python-course-work-1\\\\.venv\\\\Lib\\\\site-packages', 'c:\\\\Users\\\\DELL 5470\\\\python course work\\\\Python-course-work-1\\\\.venv\\\\Lib\\\\site-packages\\\\win32', 'c:\\\\Users\\\\DELL 5470\\\\python course work\\\\Python-course-work-1\\\\.venv\\\\Lib\\\\site-packages\\\\win32\\\\lib', 'c:\\\\Users\\\\DELL 5470\\\\python course work\\\\Python-course-work-1\\\\.venv\\\\Lib\\\\site-packages\\\\Pythonwin']\n"
     ]
    }
   ],
   "source": [
    "import sys\n",
    "\n",
    "print(sys.argv)\n",
    "print(sys.path)\n",
    "print(sys.exit())\n",
    "print(sys.version)\n"
   ]
  },
  {
   "cell_type": "markdown",
   "id": "9654ebe5",
   "metadata": {},
   "source": [
    "** Platform Function **"
   ]
  },
  {
   "cell_type": "code",
   "execution_count": 1,
   "metadata": {},
   "outputs": [
    {
     "name": "stdout",
     "output_type": "stream",
     "text": [
      "Windows\n",
      "10\n",
      "Intel64 Family 6 Model 78 Stepping 3, GenuineIntel\n"
     ]
    }
   ],
   "source": [
    "import platform\n",
    "\n",
    "print(platform.system())\n",
    "print(platform.release())\n",
    "print(platform.processor())"
   ]
  },
  {
   "cell_type": "markdown",
   "id": "6458b840",
   "metadata": {},
   "source": [
    "** Math Function **"
   ]
  },
  {
   "cell_type": "code",
   "execution_count": 8,
   "metadata": {},
   "outputs": [
    {
     "name": "stdout",
     "output_type": "stream",
     "text": [
      "3.141592653589793\n",
      "2.718281828459045\n",
      "5.0\n",
      "8.0\n",
      "13\n",
      "12\n",
      "12.0\n",
      "12\n",
      "120\n",
      "12\n",
      "1.3862943611198906\n",
      "0.8509035245341184\n",
      "0.5253219888177297\n",
      "1.6197751905438615\n",
      "2578.3100780887044\n",
      "0.5235987755982988\n"
     ]
    }
   ],
   "source": [
    "import math \n",
    "\n",
    "print(math.pi)\n",
    "print(math.e)\n",
    "\n",
    "print(math.sqrt(25))\n",
    "print(math.pow(2,3))\n",
    "print(math.ceil(12.3))\n",
    "print(math.floor(12.3))\n",
    "\n",
    "print(math.fabs(-12))\n",
    "print(abs(-12))\n",
    "\n",
    "print(math.factorial(5))\n",
    "print(math.gcd(12,48))\n",
    "print(math.log(4))\n",
    "print(math.sin(45))\n",
    "print(math.cos(45))\n",
    "print(math.tan(45))\n",
    "\n",
    "print(math.degrees(45))\n",
    "print(math.radians(30))"
   ]
  },
  {
   "cell_type": "markdown",
   "id": "7e09b8ef",
   "metadata": {},
   "source": [
    "** Random Function **"
   ]
  },
  {
   "cell_type": "code",
   "execution_count": 7,
   "metadata": {},
   "outputs": [
    {
     "name": "stdout",
     "output_type": "stream",
     "text": [
      "0.045921340786016174\n",
      "24\n",
      "35.716612180047186\n",
      "kiran\n",
      "['varun', 'manikanta']\n",
      "['aditya', 'sanjay', 'manikanta', 'kiran', 'varun']\n"
     ]
    }
   ],
   "source": [
    "\n",
    "import random\n",
    "\n",
    "a = 20\n",
    "b = 40\n",
    "\n",
    "print(random.random())\n",
    "print(random.randint(a,b))\n",
    "print(random.uniform(a,b))\n",
    "\n",
    "names = ['varun','kiran','sanjay','manikanta','aditya']\n",
    "\n",
    "print(random.choice(names))\n",
    "print(random.choices(names,k=2))\n",
    "\n",
    "random.shuffle(names)\n",
    "print(names)"
   ]
  },
  {
   "cell_type": "code",
   "execution_count": null,
   "metadata": {},
   "outputs": [],
   "source": []
  },
  {
   "cell_type": "code",
   "execution_count": null,
   "id": "76ff0b81",
   "metadata": {},
   "outputs": [],
   "source": []
  },
  {
   "cell_type": "code",
   "execution_count": null,
   "id": "bf178518",
   "metadata": {},
   "outputs": [],
   "source": []
  },
  {
   "cell_type": "code",
   "execution_count": null,
   "id": "536770a3",
   "metadata": {},
   "outputs": [],
   "source": []
  },
  {
   "cell_type": "code",
   "execution_count": null,
   "id": "23ae0a9d",
   "metadata": {},
   "outputs": [],
   "source": []
  },
  {
   "cell_type": "code",
   "execution_count": null,
   "id": "c9efdf32",
   "metadata": {},
   "outputs": [],
   "source": []
  },
  {
   "cell_type": "code",
   "execution_count": null,
   "id": "98b256b5",
   "metadata": {},
   "outputs": [],
   "source": []
  },
  {
   "cell_type": "code",
   "execution_count": null,
   "id": "7291efc3",
   "metadata": {},
   "outputs": [],
   "source": []
  }
 ],
 "metadata": {
  "kernelspec": {
   "display_name": ".venv",
   "language": "python",
   "name": "python3"
  },
  "language_info": {
   "codemirror_mode": {
    "name": "ipython",
    "version": 3
   },
   "file_extension": ".py",
   "mimetype": "text/x-python",
   "name": "python",
   "nbconvert_exporter": "python",
   "pygments_lexer": "ipython3",
   "version": "3.13.5"
  }
 },
 "nbformat": 4,
 "nbformat_minor": 5
}
