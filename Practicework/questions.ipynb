{
 "cells": [
  {
   "cell_type": "markdown",
   "id": "6fd898aa",
   "metadata": {},
   "source": [
    "**10. Return length of a string using lambda**"
   ]
  },
  {
   "cell_type": "code",
   "execution_count": 1,
   "id": "a70290b6",
   "metadata": {},
   "outputs": [
    {
     "name": "stdout",
     "output_type": "stream",
     "text": [
      "6\n"
     ]
    }
   ],
   "source": [
    "n = input()\n",
    "length = lambda n: len(n)\n",
    "print(length(n))"
   ]
  },
  {
   "cell_type": "markdown",
   "id": "299139df",
   "metadata": {},
   "source": [
    "**11. Check if string starts with a vowel using lambda**"
   ]
  },
  {
   "cell_type": "code",
   "execution_count": 3,
   "id": "7c47fa2b",
   "metadata": {},
   "outputs": [
    {
     "name": "stdout",
     "output_type": "stream",
     "text": [
      "True\n"
     ]
    }
   ],
   "source": [
    "n = input()\n",
    "vowels = 'aeiouAEIOU'\n",
    "v = lambda a:True if n[0] in vowels else False\n",
    "print(v(n))"
   ]
  }
 ],
 "metadata": {
  "kernelspec": {
   "display_name": ".venv",
   "language": "python",
   "name": "python3"
  },
  "language_info": {
   "codemirror_mode": {
    "name": "ipython",
    "version": 3
   },
   "file_extension": ".py",
   "mimetype": "text/x-python",
   "name": "python",
   "nbconvert_exporter": "python",
   "pygments_lexer": "ipython3",
   "version": "3.13.5"
  }
 },
 "nbformat": 4,
 "nbformat_minor": 5
}
